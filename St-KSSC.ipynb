{
 "cells": [
  {
   "cell_type": "code",
   "execution_count": 8,
   "metadata": {},
   "outputs": [],
   "source": [
    "from sklearn.gaussian_process import GaussianProcessClassifier\n",
    "from sklearn.metrics import pairwise_distances\n",
    "from sklearn.gaussian_process.kernels import RBF\n",
    "import numpy as np\n",
    "from scipy.sparse import csr_matrix\n",
    "from sklearn.metrics import pairwise_distances \n",
    "from scipy.spatial import distance \n",
    "import math\n",
    "from sklearn.datasets import load_iris\n",
    "from sklearn.cluster import SpectralClustering\n",
    "from sklearn.metrics.cluster import normalized_mutual_info_score"
   ]
  },
  {
   "cell_type": "code",
   "execution_count": 9,
   "metadata": {},
   "outputs": [],
   "source": [
    "#SSC MODEL\n",
    "class ssc_model(object):\n",
    "    def __init__(self, X, affine=False, alpha1=800,  alpha2 = None, thr=0.02, maxIter=200):\n",
    "        self.alpha1 = alpha1 \n",
    "        if not alpha2:\n",
    "            self.alpha2 = alpha1\n",
    "        else:\n",
    "            self.alpha2 = alpha2\n",
    "\n",
    "        self.X = X\n",
    "        self.affine = affine    \n",
    "        self.thr = thr\n",
    "        self.maxIter = maxIter\n",
    "        self.N = X.shape[1]   # number of samples\n",
    "        \n",
    "        self.T = (self.X)\n",
    "        T1 = np.abs(self.T - np.diag(np.diag(self.T)))\n",
    "        self.lambda1 = np.min(np.max(T1,axis=1))\n",
    "        self.mu1 = self.alpha1/self.lambda1\n",
    "        self.mu2 = self.alpha2 \n",
    "        self.I = np.eye(self.N,dtype=np.float32)\n",
    "        self.ones = np.ones((self.N,self.N),dtype=np.float32)\n",
    "        self.vec1N = np.ones((1,self.N),dtype = np.float32)\n",
    "        self.err =[]\n",
    "        \n",
    "    def computeCmat(self):\n",
    "        if not self.affine:\n",
    "            A = np.linalg.inv(self.mu1*self.T + self.mu2*self.I)\n",
    "            C1 = np.zeros((self.N,self.N),dtype=np.float32)\n",
    "            Lambda2 = np.zeros((self.N,self.N),dtype=np.float32)\n",
    "            err = 10*self.thr\n",
    "            iter1 = 1\n",
    "            while (err>self.thr)and(iter1<self.maxIter):\n",
    "                #update Z\n",
    "                Z = np.dot(A,self.mu1*self.T + self.mu2*(C1 - Lambda2/self.mu2))\n",
    "                Z = Z - np.diag(np.diag(Z))\n",
    "                # update C\n",
    "                tmp_val = np.abs(Z + Lambda2/self.mu2) - (self.ones/self.mu2)\n",
    "                C2 = np.maximum(0,tmp_val)*np.sign(Z + Lambda2/self.mu2)\n",
    "                C2 = C2 - np.diag(np.diag(C2))\n",
    "                # update lagrangian multipliers\n",
    "                Lambda2 = Lambda2 + self.mu2*(Z-C2)\n",
    "                # compute errors\n",
    "                tmp_val = np.abs(Z - C2)\n",
    "                err = np.max(tmp_val.reshape(-1,1))\n",
    "                C1 = C2\n",
    "                iter1 = iter1 +1\n",
    "                print('the error is = %f' % err)\n",
    "        else:\n",
    "            A = np.linalg.inv(self.mu1*self.T + self.mu2*self.I+ self.mu2*self.ones)\n",
    "            C1 = np.zeros((self.N,self.N),dtype=np.float32)\n",
    "            Lambda2 = np.zeros((self.N,self.N),dtype=np.float32)\n",
    "            Lambda3 = np.zeros((1,self.N),dtype=np.float32)\n",
    "            err1 = 10*self.thr\n",
    "            err3 = 10*self.thr\n",
    "            iter1 = 1\n",
    "            while ((err1>self.thr)or(err3>self.thr))and(iter1<self.maxIter):\n",
    "                #update Z\n",
    "                tmp_val = self.mu1*self.T + self.mu2*(C1-Lambda2/self.mu2) + self.mu2*np.dot(self.vec1N.T,(self.vec1N - Lambda3/self.mu2))\n",
    "                Z = np.dot(A,tmp_val)\n",
    "                Z = Z - np.diag(np.diag(Z))\n",
    "                # update C\n",
    "                tmp_val = np.abs(Z + Lambda2/self.mu2) - (self.ones/self.mu2)\n",
    "                C2 = np.maximum(0,tmp_val)*np.sign(Z + Lambda2/self.mu2)\n",
    "                C2 = C2 - np.diag(np.diag(C2))\n",
    "                # update lagrangian multipliers\n",
    "                Lambda2 = Lambda2 + self.mu2*(Z-C2)\n",
    "                Lambda3 = Lambda3 + self.mu2*(np.dot(self.vec1N,Z) - self.vec1N)\n",
    "                # compute errors\n",
    "                tmp_val = np.abs(Z - C2)\n",
    "                err1 = np.max(tmp_val.reshape(-1,1))\n",
    "                tmp_val = np.abs(np.dot(self.vec1N,Z) - self.vec1N)\n",
    "                err3 = np.max(tmp_val.reshape(-1,1))\n",
    "                \n",
    "                C1 = C2\n",
    "                iter1 = iter1 + 1\n",
    "                print('iter1 = %d, the error 1 is = %f and error 2 is %f' % (iter1, err1, err3,C2))\n",
    "                \n",
    "        return C2"
   ]
  },
  {
   "cell_type": "code",
   "execution_count": 11,
   "metadata": {},
   "outputs": [],
   "source": [
    "#IRIS DataSet\n",
    "iris_data = load_iris()\n",
    "X=iris_data.data\n",
    "y=iris_data.target"
   ]
  },
  {
   "cell_type": "code",
   "execution_count": 12,
   "metadata": {},
   "outputs": [],
   "source": [
    "#Conformal mapping\n",
    "a=np.zeros(X.shape[1])\n",
    "for i in range(0,X.shape[1]):\n",
    "    a[i]=np.dot(X.T[i],np.ones(X.shape[0]))/X.shape[0]\n",
    "a=np.matrix(a)\n",
    "a.shape\n",
    "dists = distance.cdist(X, a, 'euclidean')\n",
    "R=np.max(dists)\n",
    "Xf=np.zeros((150,4))\n",
    "Xe=np.zeros((150))\n",
    "for i in range(0,150):\n",
    "    Xe[i]=R*((np.dot(X[i]**2,np.ones(4))-math.pow(R,2))/((np.dot(X[i]**2,np.ones(4)))+math.pow(R,2)))\n",
    "    Xf[i]=R*(2*R/((np.dot(X[i]**2,np.ones(4)))+math.pow(R,2))*X[i])\n",
    "    \n",
    "X1=np.column_stack((Xf, Xe)) \n"
   ]
  },
  {
   "cell_type": "code",
   "execution_count": 13,
   "metadata": {},
   "outputs": [],
   "source": [
    "\n",
    "A=np.dot(X1,X1.T)/(R**2)  \n",
    "for i in range(0,X1.shape[0]):\n",
    "        A[i][i]=int(1)\n",
    "for i in range(0,X1.shape[0]):\n",
    "    for j in range(0,X1.shape[0]):\n",
    "        if A[i,j]>1:\n",
    "            A[i][j]=int(1)          \n",
    "A=R*np.arccos(A)\n",
    "W=csr_matrix((X1.shape[0], X1.shape[0])).toarray()\n",
    "for i in range(W.shape[0]):\n",
    "    for j in range(W.shape[0]):\n",
    "         W[i][j] =np.exp(-(A[i,j]**2)/(np.mean(A)))     \n",
    "X=(W+W.T)/2"
   ]
  },
  {
   "cell_type": "code",
   "execution_count": 14,
   "metadata": {},
   "outputs": [
    {
     "name": "stdout",
     "output_type": "stream",
     "text": [
      "the error is = 0.001250\n"
     ]
    },
    {
     "data": {
      "text/plain": [
       "SpectralClustering(affinity='precomputed', n_clusters=3, n_init=50, n_jobs=-1)"
      ]
     },
     "execution_count": 14,
     "metadata": {},
     "output_type": "execute_result"
    }
   ],
   "source": [
    "ssc=ssc_model(X)\n",
    "C=ssc.computeCmat()\n",
    "sc = SpectralClustering(n_clusters=3, affinity='precomputed', n_init=50, n_jobs=-1)\n",
    "sc.fit(np.abs(C) + np.abs(C.T))"
   ]
  },
  {
   "cell_type": "code",
   "execution_count": 15,
   "metadata": {},
   "outputs": [
    {
     "name": "stdout",
     "output_type": "stream",
     "text": [
      "NMI = 0.849780562488021\n"
     ]
    }
   ],
   "source": [
    "\n",
    "print(\"NMI = \" + str(normalized_mutual_info_score(y,sc.labels_,average_method='arithmetic')))"
   ]
  }
 ],
 "metadata": {
  "kernelspec": {
   "display_name": "Python 3",
   "language": "python",
   "name": "python3"
  },
  "language_info": {
   "codemirror_mode": {
    "name": "ipython",
    "version": 3
   },
   "file_extension": ".py",
   "mimetype": "text/x-python",
   "name": "python",
   "nbconvert_exporter": "python",
   "pygments_lexer": "ipython3",
   "version": "3.8.5"
  }
 },
 "nbformat": 4,
 "nbformat_minor": 4
}
