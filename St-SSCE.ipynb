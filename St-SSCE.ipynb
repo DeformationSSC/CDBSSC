{
 "cells": [
  {
   "cell_type": "code",
   "execution_count": 135,
   "metadata": {},
   "outputs": [],
   "source": [
    "import numpy as np\n",
    "from sklearn.preprocessing import MinMaxScaler"
   ]
  },
  {
   "cell_type": "code",
   "execution_count": 136,
   "metadata": {},
   "outputs": [],
   "source": [
    "N = 150 # Total no of points\n",
    "D = 5  # Dimension of space\n",
    "K = 3 # Number of clusters"
   ]
  },
  {
   "cell_type": "code",
   "execution_count": 137,
   "metadata": {},
   "outputs": [],
   "source": [
    "from sklearn.datasets import load_iris\n",
    "iris_data = load_iris()\n",
    "X=iris_data.data"
   ]
  },
  {
   "cell_type": "code",
   "execution_count": 138,
   "metadata": {},
   "outputs": [],
   "source": [
    "from sklearn.metrics import pairwise_distances \n",
    "from scipy.spatial import distance \n",
    "import math\n",
    "X=iris_data.data\n",
    "\n",
    "a=np.zeros(X.shape[1])\n",
    "for i in range(0,X.shape[1]):\n",
    "    a[i]=np.dot(X.T[i],np.ones(X.shape[0]))/X.shape[0]\n",
    "a=np.matrix(a)\n",
    "dists = distance.cdist(X, a, 'euclidean')\n",
    "R=np.max(dists)\n",
    "Xf=np.zeros((150,4))\n",
    "Xe=np.zeros((150))\n",
    "for i in range(0,150):\n",
    "    Xe[i]=R*((np.dot(X[i]**2,np.ones(4))-math.pow(R,2))/((np.dot(X[i]**2,np.ones(4)))+math.pow(R,2)))\n",
    "    Xf[i]=R*(2*R/((np.dot(X[i]**2,np.ones(4)))+math.pow(R,2))*X[i])\n",
    "    \n",
    "X=np.column_stack((Xf, Xe)) \n",
    "A=np.dot(X,X.T)/(R**2)       \n",
    "for i in range(0,X.shape[0]):\n",
    "        A[i][i]=int(1)\n",
    "for i in range(0,X.shape[0]):\n",
    "    for j in range(0,X.shape[0]):\n",
    "        if A[i,j]>1:\n",
    "            A[i][j]=int(1)          \n",
    "A=R*np.arccos(A)\n",
    "input_data = X.T"
   ]
  },
  {
   "cell_type": "code",
   "execution_count": 139,
   "metadata": {},
   "outputs": [],
   "source": [
    "def zij(A,i,j,lam,N):\n",
    "    if i==j:\n",
    "        return 0.0\n",
    "    else:\n",
    "        numerator = 2 * np.exp(-(np.square(A[i,j]))/lam)\n",
    "        #print(numerator)\n",
    "        sum_i=0\n",
    "        sum_j=0\n",
    "        for h in range(N):\n",
    "            if h!=i:\n",
    "                sum_i += np.exp(-(np.square(A[i,h]))/lam)\n",
    "        for h in range(N):\n",
    "            if h!=j:\n",
    "                sum_j += np.exp(-(np.square(A[j,h]))/lam)\n",
    "        return numerator/(sum_i+sum_j)"
   ]
  },
  {
   "cell_type": "code",
   "execution_count": 140,
   "metadata": {},
   "outputs": [],
   "source": [
    "Z =np.zeros((N,N), dtype='float64')\n",
    "for i in range(N):\n",
    "    for j in range(N):\n",
    "        Z[i,j] = zij(A,i,j,0.14094,N)"
   ]
  },
  {
   "cell_type": "code",
   "execution_count": 141,
   "metadata": {},
   "outputs": [
    {
     "name": "stdout",
     "output_type": "stream",
     "text": [
      "10424\n"
     ]
    }
   ],
   "source": [
    "# Check sparsity by counting the number of zeros\n",
    "cz = 0\n",
    "for i in range(Z.shape[0]):\n",
    "    for j in range(Z.shape[1]):\n",
    "        if Z[i,j] < 1e-5 and Z[i,j] > -1e-5:\n",
    "            cz += 1\n",
    "print(cz)"
   ]
  },
  {
   "cell_type": "code",
   "execution_count": 142,
   "metadata": {},
   "outputs": [],
   "source": [
    "from scipy import linalg\n",
    "LN = np.subtract(np.eye(N,N),Z)\n",
    "eigenvals, eigenvcts = linalg.eig(LN)\n",
    "eigenvals = np.real(eigenvals)\n",
    "eigenvcts = np.real(eigenvcts)\n",
    "eig = eigenvals.reshape((N,1))\n"
   ]
  },
  {
   "cell_type": "code",
   "execution_count": 143,
   "metadata": {},
   "outputs": [],
   "source": [
    "eigenvals_sorted_indices = np.argsort(eigenvals)\n",
    "eigenvals_sorted = eigenvals[eigenvals_sorted_indices]"
   ]
  },
  {
   "cell_type": "code",
   "execution_count": 144,
   "metadata": {},
   "outputs": [
    {
     "name": "stdout",
     "output_type": "stream",
     "text": [
      "1\n",
      "0\n",
      "2\n"
     ]
    }
   ],
   "source": [
    "indices = []\n",
    "for i in range(0,K):\n",
    "    ind = []\n",
    "    print(eigenvals_sorted_indices[i])\n",
    "    ind.append(eigenvals_sorted_indices[i])\n",
    "    indices.append(np.asarray(ind))"
   ]
  },
  {
   "cell_type": "code",
   "execution_count": 145,
   "metadata": {},
   "outputs": [],
   "source": [
    "indices = np.asarray(indices)"
   ]
  },
  {
   "cell_type": "code",
   "execution_count": 146,
   "metadata": {},
   "outputs": [],
   "source": [
    "zero_eigenvals_index = np.array(indices)"
   ]
  },
  {
   "cell_type": "code",
   "execution_count": 147,
   "metadata": {},
   "outputs": [
    {
     "data": {
      "text/plain": [
       "array([[0.01272122],\n",
       "       [0.01434284],\n",
       "       [0.36476886]])"
      ]
     },
     "execution_count": 147,
     "metadata": {},
     "output_type": "execute_result"
    }
   ],
   "source": [
    "eigenvals[zero_eigenvals_index]"
   ]
  },
  {
   "cell_type": "code",
   "execution_count": 148,
   "metadata": {},
   "outputs": [
    {
     "data": {
      "text/html": [
       "<div>\n",
       "<style scoped>\n",
       "    .dataframe tbody tr th:only-of-type {\n",
       "        vertical-align: middle;\n",
       "    }\n",
       "\n",
       "    .dataframe tbody tr th {\n",
       "        vertical-align: top;\n",
       "    }\n",
       "\n",
       "    .dataframe thead th {\n",
       "        text-align: right;\n",
       "    }\n",
       "</style>\n",
       "<table border=\"1\" class=\"dataframe\">\n",
       "  <thead>\n",
       "    <tr style=\"text-align: right;\">\n",
       "      <th></th>\n",
       "      <th>v_0</th>\n",
       "      <th>v_1</th>\n",
       "      <th>v_2</th>\n",
       "    </tr>\n",
       "  </thead>\n",
       "  <tbody>\n",
       "    <tr>\n",
       "      <th>0</th>\n",
       "      <td>-0.001818</td>\n",
       "      <td>0.165344</td>\n",
       "      <td>-0.000042</td>\n",
       "    </tr>\n",
       "    <tr>\n",
       "      <th>1</th>\n",
       "      <td>-0.001601</td>\n",
       "      <td>0.145674</td>\n",
       "      <td>-0.000043</td>\n",
       "    </tr>\n",
       "    <tr>\n",
       "      <th>2</th>\n",
       "      <td>-0.001631</td>\n",
       "      <td>0.148509</td>\n",
       "      <td>-0.000054</td>\n",
       "    </tr>\n",
       "    <tr>\n",
       "      <th>3</th>\n",
       "      <td>-0.001535</td>\n",
       "      <td>0.139676</td>\n",
       "      <td>-0.000047</td>\n",
       "    </tr>\n",
       "    <tr>\n",
       "      <th>4</th>\n",
       "      <td>-0.001787</td>\n",
       "      <td>0.162512</td>\n",
       "      <td>-0.000043</td>\n",
       "    </tr>\n",
       "  </tbody>\n",
       "</table>\n",
       "</div>"
      ],
      "text/plain": [
       "        v_0       v_1       v_2\n",
       "0 -0.001818  0.165344 -0.000042\n",
       "1 -0.001601  0.145674 -0.000043\n",
       "2 -0.001631  0.148509 -0.000054\n",
       "3 -0.001535  0.139676 -0.000047\n",
       "4 -0.001787  0.162512 -0.000043"
      ]
     },
     "execution_count": 148,
     "metadata": {},
     "output_type": "execute_result"
    }
   ],
   "source": [
    "import pandas as pd\n",
    "\n",
    "proj_df = pd.DataFrame(eigenvcts[:, zero_eigenvals_index.squeeze()])\n",
    "proj_df.columns = ['v_' + str(c) for c in proj_df.columns]\n",
    "proj_df.head()"
   ]
  },
  {
   "cell_type": "code",
   "execution_count": 149,
   "metadata": {},
   "outputs": [],
   "source": [
    "from sklearn.cluster import KMeans\n",
    "\n",
    "def run_k_means(df, n_clusters):\n",
    "    k_means = KMeans(random_state=25, n_clusters=n_clusters)\n",
    "    k_means.fit(df)\n",
    "    cluster = k_means.predict(df)\n",
    "    return cluster\n",
    "\n",
    "cluster = run_k_means(proj_df, n_clusters=K)"
   ]
  },
  {
   "cell_type": "code",
   "execution_count": 150,
   "metadata": {},
   "outputs": [
    {
     "name": "stdout",
     "output_type": "stream",
     "text": [
      "[0 0 0 0 0 0 0 0 0 0 0 0 0 0 0 0 0 0 0 0 0 0 0 0 0 0 0 0 0 0 0 0 0 0 0 0 0\n",
      " 0 0 0 0 0 0 0 0 0 0 0 0 0 2 2 2 1 2 1 2 1 2 1 1 1 1 1 1 2 1 1 1 1 2 1 2 1\n",
      " 1 1 2 2 1 1 1 1 1 2 1 1 2 1 1 1 1 1 1 1 1 1 1 1 1 1 2 2 2 2 2 2 1 2 2 2 2\n",
      " 2 2 2 2 2 2 2 2 2 2 2 2 2 2 2 2 2 2 2 2 2 2 2 2 2 2 2 2 2 2 2 2 2 2 2 2 2\n",
      " 2 2]\n"
     ]
    }
   ],
   "source": [
    "print(cluster)"
   ]
  },
  {
   "cell_type": "code",
   "execution_count": 151,
   "metadata": {},
   "outputs": [
    {
     "name": "stdout",
     "output_type": "stream",
     "text": [
      "c0= 50\n",
      "c1= 38\n",
      "c2= 62\n"
     ]
    }
   ],
   "source": [
    "c0 = 0\n",
    "for l in cluster:\n",
    "    if l == 0:\n",
    "        c0 += 1\n",
    "print('c0=',c0)\n",
    "\n",
    "\n",
    "c1 = 0\n",
    "for l in cluster:\n",
    "    if l == 1:\n",
    "        c1 += 1\n",
    "print('c1=',c1)\n",
    "\n",
    "\n",
    "c2 = 0\n",
    "for l in cluster:\n",
    "    if l == 2:\n",
    "        c2 += 1\n",
    "print('c2=',c2)"
   ]
  },
  {
   "cell_type": "code",
   "execution_count": 152,
   "metadata": {},
   "outputs": [
    {
     "name": "stdout",
     "output_type": "stream",
     "text": [
      "NMI = 0.7856651817981657\n"
     ]
    }
   ],
   "source": [
    "pred = np.asarray(cluster)\n",
    "orig = iris_data.target\n",
    "from sklearn.metrics import normalized_mutual_info_score\n",
    "print(\"NMI = \" + str(normalized_mutual_info_score(orig, pred)))"
   ]
  }
 ],
 "metadata": {
  "kernelspec": {
   "display_name": "Python 3",
   "language": "python",
   "name": "python3"
  },
  "language_info": {
   "codemirror_mode": {
    "name": "ipython",
    "version": 3
   },
   "file_extension": ".py",
   "mimetype": "text/x-python",
   "name": "python",
   "nbconvert_exporter": "python",
   "pygments_lexer": "ipython3",
   "version": "3.8.5"
  }
 },
 "nbformat": 4,
 "nbformat_minor": 2
}
